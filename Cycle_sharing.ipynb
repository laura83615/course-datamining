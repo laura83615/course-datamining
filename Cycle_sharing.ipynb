{
 "metadata": {
  "name": "",
  "signature": "sha256:3bbe7e0629d8d4a702ad8c13162d09ead881b36a8ad9427cec87823fc2e551e1"
 },
 "nbformat": 3,
 "nbformat_minor": 0,
 "worksheets": [
  {
   "cells": [
    {
     "cell_type": "code",
     "collapsed": false,
     "input": [
      "import pandas as pd\n",
      "import numpy as np\n",
      "import time\n",
      "import datetime\n",
      "# Pre-process data\n",
      "from sklearn.preprocessing import normalize\n",
      "\n",
      "from sklearn.linear_model import LogisticRegression\n",
      "from sklearn.neighbors import KNeighborsClassifier\n",
      "from sklearn.naive_bayes import GaussianNB\n",
      "from sklearn.ensemble import RandomForestClassifier\n",
      "from sklearn.svm import SVC\n",
      "\n",
      "# Precision and Recll\n",
      "from sklearn.metrics import precision_score\n",
      "from sklearn.metrics import recall_score"
     ],
     "language": "python",
     "metadata": {},
     "outputs": [],
     "prompt_number": 48
    },
    {
     "cell_type": "code",
     "collapsed": false,
     "input": [
      "weather = pd.read_csv(\"weather.csv\")\n",
      "print(weather.head())\n",
      "print(weather.shape)\n",
      "trip = pd.read_csv(\"trip.csv\")\n",
      "print(trip.head())\n",
      "print(trip.shape)\n",
      "station = pd.read_csv(\"station.csv\")\n",
      "print(station.head())\n",
      "print(station.shape)"
     ],
     "language": "python",
     "metadata": {},
     "outputs": [
      {
       "output_type": "stream",
       "stream": "stdout",
       "text": [
        "         Date  Max_Temperature_F  Mean_Temperature_F  Min_TemperatureF  \\\n",
        "0  10/13/2014                 71                  62                54   \n",
        "1  10/14/2014                 63                  59                55   \n",
        "2  10/15/2014                 62                  58                54   \n",
        "3  10/16/2014                 71                  61                52   \n",
        "4  10/17/2014                 64                  60                57   \n",
        "\n",
        "   Max_Dew_Point_F  MeanDew_Point_F  Min_Dewpoint_F  Max_Humidity  \\\n",
        "0               55               51              46            87   \n",
        "1               52               51              50            88   \n",
        "2               53               50              46            87   \n",
        "3               49               46              42            83   \n",
        "4               55               51              41            87   \n",
        "\n",
        "   Mean_Humidity  Min_Humidity   ...    Mean_Sea_Level_Pressure_In  \\\n",
        "0             68            46   ...                         29.79   \n",
        "1             78            63   ...                         29.75   \n",
        "2             77            67   ...                         29.71   \n",
        "3             61            36   ...                         29.95   \n",
        "4             72            46   ...                         29.78   \n",
        "\n",
        "   Min_Sea_Level_Pressure_In  Max_Visibility_Miles  Mean_Visibility_Miles  \\\n",
        "0                      29.65                    10                     10   \n",
        "1                      29.54                    10                      9   \n",
        "2                      29.51                    10                      9   \n",
        "3                      29.81                    10                     10   \n",
        "4                      29.73                    10                     10   \n",
        "\n",
        "   Min_Visibility_Miles  Max_Wind_Speed_MPH  Mean_Wind_Speed_MPH  \\\n",
        "0                     4                  13                    4   \n",
        "1                     3                  10                    5   \n",
        "2                     3                  18                    7   \n",
        "3                    10                   9                    4   \n",
        "4                     6                   8                    3   \n",
        "\n",
        "   Max_Gust_Speed_MPH Precipitation_In  Events  \n",
        "0                  21             0.00    Rain  \n",
        "1                  17             0.11    Rain  \n",
        "2                  25             0.45    Rain  \n",
        "3                   -             0.00    Rain  \n",
        "4                   -             0.14    Rain  \n",
        "\n",
        "[5 rows x 21 columns]\n",
        "(689, 21)\n",
        "   trip_id         starttime          stoptime    bikeid  tripduration  \\\n",
        "0      431  10/13/2014 10:31  10/13/2014 10:48  SEA00298       985.935   \n",
        "1      432  10/13/2014 10:32  10/13/2014 10:48  SEA00195       926.375   \n",
        "2      433  10/13/2014 10:33  10/13/2014 10:48  SEA00486       883.831   \n",
        "3      434  10/13/2014 10:34  10/13/2014 10:48  SEA00333       865.937   \n",
        "4      435  10/13/2014 10:34  10/13/2014 10:49  SEA00202       923.923   \n",
        "\n",
        "     from_station_name                                    to_station_name  \\\n",
        "0  2nd Ave & Spring St  Occidental Park / Occidental Ave S & S Washing...   \n",
        "1  2nd Ave & Spring St  Occidental Park / Occidental Ave S & S Washing...   \n",
        "2  2nd Ave & Spring St  Occidental Park / Occidental Ave S & S Washing...   \n",
        "3  2nd Ave & Spring St  Occidental Park / Occidental Ave S & S Washing...   \n",
        "4  2nd Ave & Spring St  Occidental Park / Occidental Ave S & S Washing...   \n",
        "\n",
        "  from_station_id to_station_id usertype  gender  birthyear  \n",
        "0          CBD-06         PS-04   Member    Male       1960  \n",
        "1          CBD-06         PS-04   Member    Male       1970  \n",
        "2          CBD-06         PS-04   Member  Female       1988  \n",
        "3          CBD-06         PS-04   Member  Female       1977  \n",
        "4          CBD-06         PS-04   Member    Male       1971  "
       ]
      },
      {
       "output_type": "stream",
       "stream": "stdout",
       "text": [
        "\n",
        "(286858, 12)\n",
        "  station_id                    name        lat        long install_date  \\\n",
        "0      BT-01      3rd Ave & Broad St  47.618418 -122.350964   10/13/2014   \n",
        "1      BT-03       2nd Ave & Vine St  47.615829 -122.348564   10/13/2014   \n",
        "2      BT-04  6th Ave & Blanchard St  47.616094 -122.341102   10/13/2014   \n",
        "3      BT-05  2nd Ave & Blanchard St  47.613110 -122.344208   10/13/2014   \n",
        "4     CBD-03      7th Ave & Union St  47.610731 -122.332447   10/13/2014   \n",
        "\n",
        "   install_dockcount modification_date  current_dockcount decommission_date  \n",
        "0                 18               NaN                 18               NaN  \n",
        "1                 16               NaN                 16               NaN  \n",
        "2                 16               NaN                 16               NaN  \n",
        "3                 14               NaN                 14               NaN  \n",
        "4                 20               NaN                 20               NaN  \n",
        "(58, 9)\n"
       ]
      }
     ],
     "prompt_number": 49
    },
    {
     "cell_type": "code",
     "collapsed": false,
     "input": [
      "#processin \"weather\""
     ],
     "language": "python",
     "metadata": {},
     "outputs": [],
     "prompt_number": 50
    },
    {
     "cell_type": "code",
     "collapsed": false,
     "input": [
      "#weather['Date'] = weather['Date'].apply(lambda x: str(x).replace(\"/\", \"-\"))\n",
      "print(weather.head())\n",
      "print(weather['Date'].dtype)"
     ],
     "language": "python",
     "metadata": {},
     "outputs": [
      {
       "output_type": "stream",
       "stream": "stdout",
       "text": [
        "         Date  Max_Temperature_F  Mean_Temperature_F  Min_TemperatureF  \\\n",
        "0  10/13/2014                 71                  62                54   \n",
        "1  10/14/2014                 63                  59                55   \n",
        "2  10/15/2014                 62                  58                54   \n",
        "3  10/16/2014                 71                  61                52   \n",
        "4  10/17/2014                 64                  60                57   \n",
        "\n",
        "   Max_Dew_Point_F  MeanDew_Point_F  Min_Dewpoint_F  Max_Humidity  \\\n",
        "0               55               51              46            87   \n",
        "1               52               51              50            88   \n",
        "2               53               50              46            87   \n",
        "3               49               46              42            83   \n",
        "4               55               51              41            87   \n",
        "\n",
        "   Mean_Humidity  Min_Humidity   ...    Mean_Sea_Level_Pressure_In  \\\n",
        "0             68            46   ...                         29.79   \n",
        "1             78            63   ...                         29.75   \n",
        "2             77            67   ...                         29.71   \n",
        "3             61            36   ...                         29.95   \n",
        "4             72            46   ...                         29.78   \n",
        "\n",
        "   Min_Sea_Level_Pressure_In  Max_Visibility_Miles  Mean_Visibility_Miles  \\\n",
        "0                      29.65                    10                     10   \n",
        "1                      29.54                    10                      9   \n",
        "2                      29.51                    10                      9   \n",
        "3                      29.81                    10                     10   \n",
        "4                      29.73                    10                     10   \n",
        "\n",
        "   Min_Visibility_Miles  Max_Wind_Speed_MPH  Mean_Wind_Speed_MPH  \\\n",
        "0                     4                  13                    4   \n",
        "1                     3                  10                    5   \n",
        "2                     3                  18                    7   \n",
        "3                    10                   9                    4   \n",
        "4                     6                   8                    3   \n",
        "\n",
        "   Max_Gust_Speed_MPH Precipitation_In  Events  \n",
        "0                  21             0.00    Rain  \n",
        "1                  17             0.11    Rain  \n",
        "2                  25             0.45    Rain  \n",
        "3                   -             0.00    Rain  \n",
        "4                   -             0.14    Rain  \n",
        "\n",
        "[5 rows x 21 columns]\n",
        "object\n"
       ]
      }
     ],
     "prompt_number": 51
    },
    {
     "cell_type": "code",
     "collapsed": false,
     "input": [
      "#produce mapping station_id & numeric_id"
     ],
     "language": "python",
     "metadata": {},
     "outputs": [],
     "prompt_number": 52
    },
    {
     "cell_type": "code",
     "collapsed": false,
     "input": [
      "stationName_id_mapping = dict();\n",
      "station_id_count = 1;\n",
      "for index, row in station.iterrows():\n",
      "    #print row['name']\n",
      "    if stationName_id_mapping.get(row['station_id']) == None:\n",
      "        stationName_id_mapping[row['station_id']] = station_id_count\n",
      "        station_id_count += 1\n",
      "print(stationName_id_mapping)\n",
      "reverse_stationName_id_mapping = dict((v,k) for k,v in stationName_id_mapping.iteritems())\n",
      "print(reverse_stationName_id_mapping)"
     ],
     "language": "python",
     "metadata": {},
     "outputs": [
      {
       "output_type": "stream",
       "stream": "stdout",
       "text": [
        "{'DPD-03': 23, 'DPD-01': 22, 'PS-05': 31, 'PS-04': 30, 'SLU-04': 34, 'SLU-07': 35, 'SLU-01': 32, 'SLU-02': 33, 'CBD-13': 10, 'ID-04': 29, 'CH-09': 19, 'CH-08': 18, 'BT-03': 2, 'BT-01': 1, 'CH-03': 14, 'CH-02': 13, 'CH-01': 12, 'UD-02': 44, 'CH-07': 17, 'CH-06': 16, 'CH-05': 15, 'UW-07': 51, 'EL-01': 24, 'EL-03': 25, 'EL-05': 26, 'SLU-18': 39, 'UW-04': 49, 'UD-04': 45, 'UD-07': 46, 'UD-01': 43, 'CD-01': 11, 'CH-15': 21, 'CH-16': 55, 'UW-01': 47, 'CH-12': 20, 'SLU-19': 40, 'SLU-16': 37, 'SLU-17': 38, 'SLU-15': 36, 'WF-03': 58, 'CBD-04': 6, 'CBD-05': 7, 'CBD-06': 8, 'CBD-07': 9, 'CBD-03': 5, 'UW-06': 50, 'UW-11': 57, 'UW-10': 52, 'WF-01': 53, 'UW-02': 48, 'WF-04': 54, 'BT-04': 3, 'BT-05': 4, 'SLU-22': 56, 'SLU-21': 42, 'SLU-20': 41, 'FH-04': 28, 'FH-01': 27}\n",
        "{1: 'BT-01', 2: 'BT-03', 3: 'BT-04', 4: 'BT-05', 5: 'CBD-03', 6: 'CBD-04', 7: 'CBD-05', 8: 'CBD-06', 9: 'CBD-07', 10: 'CBD-13', 11: 'CD-01', 12: 'CH-01', 13: 'CH-02', 14: 'CH-03', 15: 'CH-05', 16: 'CH-06', 17: 'CH-07', 18: 'CH-08', 19: 'CH-09', 20: 'CH-12', 21: 'CH-15', 22: 'DPD-01', 23: 'DPD-03', 24: 'EL-01', 25: 'EL-03', 26: 'EL-05', 27: 'FH-01', 28: 'FH-04', 29: 'ID-04', 30: 'PS-04', 31: 'PS-05', 32: 'SLU-01', 33: 'SLU-02', 34: 'SLU-04', 35: 'SLU-07', 36: 'SLU-15', 37: 'SLU-16', 38: 'SLU-17', 39: 'SLU-18', 40: 'SLU-19', 41: 'SLU-20', 42: 'SLU-21', 43: 'UD-01', 44: 'UD-02', 45: 'UD-04', 46: 'UD-07', 47: 'UW-01', 48: 'UW-02', 49: 'UW-04', 50: 'UW-06', 51: 'UW-07', 52: 'UW-10', 53: 'WF-01', 54: 'WF-04', 55: 'CH-16', 56: 'SLU-22', 57: 'UW-11', 58: 'WF-03'}\n"
       ]
      }
     ],
     "prompt_number": 53
    },
    {
     "cell_type": "code",
     "collapsed": false,
     "input": [
      "#produce timestamp"
     ],
     "language": "python",
     "metadata": {},
     "outputs": [],
     "prompt_number": 54
    },
    {
     "cell_type": "code",
     "collapsed": false,
     "input": [
      "trip['starttime'] = trip['starttime']\n",
      "#trip['starttimestamp'] = trip['starttime'].apply(lambda x: str(x).replace(\"/\", \"-\"))\n",
      "timestamp_offset = time.mktime(datetime.datetime.strptime(\"10/13/2014 0:0:0\", \"%m/%d/%Y %H:%M:%S\").timetuple())\n",
      "trip['starttimestamp'] = trip['starttime'].apply(lambda x: str(x)+\":00\")\n",
      "trip['starttimestamp'] = trip['starttimestamp'].apply(lambda x: time.mktime(datetime.datetime.strptime(str(x), \"%m/%d/%Y %H:%M:%S\").timetuple()) - timestamp_offset)\n",
      "#trip['starttimestamp'] = trip['starttimestamp'].apply(lambda x: int(x) % 86400)\n",
      "trip['stoptimestamp'] = trip['stoptime'].apply(lambda x: str(x)+\":00\")\n",
      "trip['stoptimestamp'] = trip['stoptimestamp'].apply(lambda x: time.mktime(datetime.datetime.strptime(str(x), \"%m/%d/%Y %H:%M:%S\").timetuple()) - timestamp_offset)\n",
      "#trip['stoptimestamp'] = trip['stoptimestamp'].apply(lambda x: int(x) % 86400)\n",
      "print(trip.head())"
     ],
     "language": "python",
     "metadata": {},
     "outputs": [
      {
       "output_type": "stream",
       "stream": "stdout",
       "text": [
        "   trip_id         starttime          stoptime    bikeid  tripduration  \\\n",
        "0      431  10/13/2014 10:31  10/13/2014 10:48  SEA00298       985.935   \n",
        "1      432  10/13/2014 10:32  10/13/2014 10:48  SEA00195       926.375   \n",
        "2      433  10/13/2014 10:33  10/13/2014 10:48  SEA00486       883.831   \n",
        "3      434  10/13/2014 10:34  10/13/2014 10:48  SEA00333       865.937   \n",
        "4      435  10/13/2014 10:34  10/13/2014 10:49  SEA00202       923.923   \n",
        "\n",
        "     from_station_name                                    to_station_name  \\\n",
        "0  2nd Ave & Spring St  Occidental Park / Occidental Ave S & S Washing...   \n",
        "1  2nd Ave & Spring St  Occidental Park / Occidental Ave S & S Washing...   \n",
        "2  2nd Ave & Spring St  Occidental Park / Occidental Ave S & S Washing...   \n",
        "3  2nd Ave & Spring St  Occidental Park / Occidental Ave S & S Washing...   \n",
        "4  2nd Ave & Spring St  Occidental Park / Occidental Ave S & S Washing...   \n",
        "\n",
        "  from_station_id to_station_id usertype  gender  birthyear  starttimestamp  \\\n",
        "0          CBD-06         PS-04   Member    Male       1960           37860   \n",
        "1          CBD-06         PS-04   Member    Male       1970           37920   \n",
        "2          CBD-06         PS-04   Member  Female       1988           37980   \n",
        "3          CBD-06         PS-04   Member  Female       1977           38040   \n",
        "4          CBD-06         PS-04   Member    Male       1971           38040   \n",
        "\n",
        "   stoptimestamp  \n",
        "0          38880  \n",
        "1          38880  \n",
        "2          38880  \n",
        "3          38880  \n",
        "4          38940  \n"
       ]
      }
     ],
     "prompt_number": 55
    },
    {
     "cell_type": "code",
     "collapsed": false,
     "input": [
      "#produce per station profile ####### takes long time to produce file"
     ],
     "language": "python",
     "metadata": {},
     "outputs": [],
     "prompt_number": 56
    },
    {
     "cell_type": "code",
     "collapsed": false,
     "input": [
      "#key, value in reverse_stationName_id_mapping.iteritems():\n",
      "for key, value in reverse_stationName_id_mapping.iteritems():\n",
      "    station_id = value\n",
      "    filepath = \"station_profile/station_\" + station_id + \".csv\" \n",
      "    temp_df = trip.copy()\n",
      "    temp_df = temp_df[(temp_df.from_station_id == station_id) | (temp_df.to_station_id == station_id)]\n",
      "    headers = temp_df.dtypes.index.tolist()\n",
      "    headers.append('event_type')\n",
      "    #print(headers)\n",
      "    \n",
      "    df = pd.DataFrame(columns = headers)\n",
      "    dfindex = 0;\n",
      "    for index, row in temp_df.iterrows():\n",
      "        if row['from_station_id'] == station_id and row['to_station_id'] == station_id:\n",
      "            a = row.tolist()\n",
      "            a.append('3')\n",
      "            df.loc[dfindex] = a\n",
      "            dfindex += 1\n",
      "        elif row['from_station_id'] == station_id:\n",
      "            a = row.tolist()\n",
      "            a.append('1')\n",
      "            df.loc[dfindex] = a\n",
      "            dfindex += 1\n",
      "        else:\n",
      "            a = row.tolist()\n",
      "            a.append('2')\n",
      "            df.loc[dfindex] = a\n",
      "            dfindex += 1\n",
      "            \n",
      "    #temp_df['event_time'] = np.where(temp_df['from_station_id'] == station_id, temp_df['starttime'] , temp_df['stoptime'])\n",
      "    #temp_df['event_timestamp'] = np.where(temp_df['from_station_id'] == station_id, temp_df['starttimestamp'] , temp_df['stoptimestamp'])\n",
      "    #temp_df['event_type'] = np.where(temp_df['from_station_id'] == station_id, \"0\" , \"1\") # 0 borrow 1 return\n",
      "    #print(df)\n",
      "    df.to_csv(filepath, sep=',', index=False)"
     ],
     "language": "python",
     "metadata": {},
     "outputs": [],
     "prompt_number": 83
    },
    {
     "cell_type": "code",
     "collapsed": false,
     "input": [],
     "language": "python",
     "metadata": {},
     "outputs": [],
     "prompt_number": 82
    },
    {
     "cell_type": "code",
     "collapsed": false,
     "input": [],
     "language": "python",
     "metadata": {},
     "outputs": []
    }
   ],
   "metadata": {}
  }
 ]
}