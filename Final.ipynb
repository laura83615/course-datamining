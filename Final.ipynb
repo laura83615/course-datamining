{
 "metadata": {
  "kernelspec": {
   "display_name": "Python 3",
   "language": "python",
   "name": "python3"
  },
  "language_info": {
   "codemirror_mode": {
    "name": "ipython",
    "version": 3
   },
   "file_extension": ".py",
   "mimetype": "text/x-python",
   "name": "python",
   "nbconvert_exporter": "python",
   "pygments_lexer": "ipython3",
   "version": "3.5.1"
  },
  "name": "",
  "signature": "sha256:a06dff142b36aa387a22ea356ef2a7b6077eafc7b4acb46c0b1f20443264995b"
 },
 "nbformat": 3,
 "nbformat_minor": 0,
 "worksheets": [
  {
   "cells": [
    {
     "cell_type": "code",
     "collapsed": false,
     "input": [
      "import pandas as pd\n",
      "import numpy as np\n",
      "\n",
      "# Pre-process data\n",
      "from sklearn.preprocessing import normalize\n",
      "\n",
      "from sklearn.linear_model import LogisticRegression\n",
      "from sklearn.neighbors import KNeighborsClassifier\n",
      "from sklearn.naive_bayes import GaussianNB\n",
      "from sklearn.ensemble import RandomForestClassifier\n",
      "from sklearn.svm import SVC\n",
      "\n",
      "# Precision and Recll\n",
      "from sklearn.metrics import precision_score\n",
      "from sklearn.metrics import recall_score"
     ],
     "language": "python",
     "metadata": {},
     "outputs": [],
     "prompt_number": 11
    },
    {
     "cell_type": "code",
     "collapsed": false,
     "input": [
      "traindf = pd.read_csv(\"occupancy_data/datatraining.txt\")\n",
      "print(traindf.head())\n",
      "print(traindf.shape)\n",
      "testdf1 = pd.read_csv(\"occupancy_data/datatest.txt\")\n",
      "print(testdf1.head())\n",
      "print(testdf1.shape)\n",
      "testdf2 = pd.read_csv(\"occupancy_data/datatest2.txt\")\n",
      "print(testdf2.head())\n",
      "print(testdf2.shape)"
     ],
     "language": "python",
     "metadata": {},
     "outputs": [
      {
       "output_type": "stream",
       "stream": "stdout",
       "text": [
        "                  date  Temperature  Humidity  Light     CO2  HumidityRatio  \\\n",
        "1  2015-02-04 17:51:00        23.18   27.2720  426.0  721.25       0.004793   \n",
        "2  2015-02-04 17:51:59        23.15   27.2675  429.5  714.00       0.004783   \n",
        "3  2015-02-04 17:53:00        23.15   27.2450  426.0  713.50       0.004779   \n",
        "4  2015-02-04 17:54:00        23.15   27.2000  426.0  708.25       0.004772   \n",
        "5  2015-02-04 17:55:00        23.10   27.2000  426.0  704.50       0.004757   \n",
        "\n",
        "   Occupancy  \n",
        "1          1  \n",
        "2          1  \n",
        "3          1  \n",
        "4          1  \n",
        "5          1  \n",
        "(8143, 7)\n",
        "                    date  Temperature  Humidity       Light         CO2  \\\n",
        "140  2015-02-02 14:19:00      23.7000    26.272  585.200000  749.200000   \n",
        "141  2015-02-02 14:19:59      23.7180    26.290  578.400000  760.400000   \n",
        "142  2015-02-02 14:21:00      23.7300    26.230  572.666667  769.666667   \n",
        "143  2015-02-02 14:22:00      23.7225    26.125  493.750000  774.750000   \n",
        "144  2015-02-02 14:23:00      23.7540    26.200  488.600000  779.000000   \n",
        "\n",
        "     HumidityRatio  Occupancy  \n",
        "140       0.004764          1  \n",
        "141       0.004773          1  \n",
        "142       0.004765          1  \n",
        "143       0.004744          1  \n",
        "144       0.004767          1  \n",
        "(2665, 7)\n",
        "                  date  Temperature   Humidity       Light          CO2  \\\n",
        "1  2015-02-11 14:48:00      21.7600  31.133333  437.333333  1029.666667   \n",
        "2  2015-02-11 14:49:00      21.7900  31.000000  437.333333  1000.000000   \n",
        "3  2015-02-11 14:50:00      21.7675  31.122500  434.000000  1003.750000   \n",
        "4  2015-02-11 14:51:00      21.7675  31.122500  439.000000  1009.500000   \n",
        "5  2015-02-11 14:51:59      21.7900  31.133333  437.333333  1005.666667   \n",
        "\n",
        "   HumidityRatio  Occupancy  \n",
        "1       0.005021          1  \n",
        "2       0.005009          1  \n",
        "3       0.005022          1  \n",
        "4       0.005022          1  \n",
        "5       0.005030          1  \n",
        "(9752, 7)\n"
       ]
      }
     ],
     "prompt_number": 4
    },
    {
     "cell_type": "code",
     "collapsed": false,
     "input": [
      "traindf_no_time = traindf[['Temperature', 'Humidity', 'Light', 'CO2', 'HumidityRatio']]\n",
      "occupancy_train = traindf['Occupancy'].tolist()\n",
      "\n",
      "testdf1_no_time = testdf1[['Temperature', 'Humidity', 'Light', 'CO2', 'HumidityRatio']]\n",
      "occupancy_test1 = testdf1['Occupancy'].tolist()\n",
      "\n",
      "testdf2_no_time = testdf2[['Temperature', 'Humidity', 'Light', 'CO2', 'HumidityRatio']]\n",
      "occupancy_test2 = testdf2['Occupancy'].tolist()"
     ],
     "language": "python",
     "metadata": {},
     "outputs": [
      {
       "ename": "TypeError",
       "evalue": "unhashable type",
       "output_type": "pyerr",
       "traceback": [
        "\u001b[1;31m---------------------------------------------------------------------------\u001b[0m\n\u001b[1;31mTypeError\u001b[0m                                 Traceback (most recent call last)",
        "\u001b[1;32m<ipython-input-44-1be6e525b279>\u001b[0m in \u001b[0;36m<module>\u001b[1;34m()\u001b[0m\n\u001b[0;32m      1\u001b[0m \u001b[0mtraindf_no_time\u001b[0m \u001b[1;33m=\u001b[0m \u001b[0mtraindf\u001b[0m\u001b[1;33m[\u001b[0m\u001b[1;33m[\u001b[0m\u001b[1;34m'Temperature'\u001b[0m\u001b[1;33m,\u001b[0m \u001b[1;34m'Humidity'\u001b[0m\u001b[1;33m,\u001b[0m \u001b[1;34m'Light'\u001b[0m\u001b[1;33m,\u001b[0m \u001b[1;34m'CO2'\u001b[0m\u001b[1;33m,\u001b[0m \u001b[1;34m'HumidityRatio'\u001b[0m\u001b[1;33m]\u001b[0m\u001b[1;33m]\u001b[0m\u001b[1;33m\u001b[0m\u001b[0m\n\u001b[0;32m      2\u001b[0m \u001b[0moccupancy_train\u001b[0m \u001b[1;33m=\u001b[0m \u001b[0mtraindf\u001b[0m\u001b[1;33m[\u001b[0m\u001b[1;34m'Occupancy'\u001b[0m\u001b[1;33m]\u001b[0m\u001b[1;33m.\u001b[0m\u001b[0mtolist\u001b[0m\u001b[1;33m(\u001b[0m\u001b[1;33m)\u001b[0m\u001b[1;33m\u001b[0m\u001b[0m\n\u001b[1;32m----> 3\u001b[1;33m \u001b[1;32mprint\u001b[0m\u001b[1;33m(\u001b[0m\u001b[0mtraindf_no_time\u001b[0m\u001b[1;33m[\u001b[0m\u001b[1;36m0\u001b[0m\u001b[1;33m:\u001b[0m\u001b[1;36m5\u001b[0m\u001b[1;33m,\u001b[0m\u001b[1;33m:\u001b[0m\u001b[1;33m]\u001b[0m\u001b[1;33m)\u001b[0m\u001b[1;33m\u001b[0m\u001b[0m\n\u001b[0m\u001b[0;32m      4\u001b[0m \u001b[1;33m\u001b[0m\u001b[0m\n\u001b[0;32m      5\u001b[0m \u001b[0mtestdf1_no_time\u001b[0m \u001b[1;33m=\u001b[0m \u001b[0mtestdf1\u001b[0m\u001b[1;33m[\u001b[0m\u001b[1;33m[\u001b[0m\u001b[1;34m'Temperature'\u001b[0m\u001b[1;33m,\u001b[0m \u001b[1;34m'Humidity'\u001b[0m\u001b[1;33m,\u001b[0m \u001b[1;34m'Light'\u001b[0m\u001b[1;33m,\u001b[0m \u001b[1;34m'CO2'\u001b[0m\u001b[1;33m,\u001b[0m \u001b[1;34m'HumidityRatio'\u001b[0m\u001b[1;33m]\u001b[0m\u001b[1;33m]\u001b[0m\u001b[1;33m\u001b[0m\u001b[0m\n",
        "\u001b[1;32mC:\\Python27\\lib\\site-packages\\pandas\\core\\frame.pyc\u001b[0m in \u001b[0;36m__getitem__\u001b[1;34m(self, key)\u001b[0m\n\u001b[0;32m   1795\u001b[0m             \u001b[1;32mreturn\u001b[0m \u001b[0mself\u001b[0m\u001b[1;33m.\u001b[0m\u001b[0m_getitem_multilevel\u001b[0m\u001b[1;33m(\u001b[0m\u001b[0mkey\u001b[0m\u001b[1;33m)\u001b[0m\u001b[1;33m\u001b[0m\u001b[0m\n\u001b[0;32m   1796\u001b[0m         \u001b[1;32melse\u001b[0m\u001b[1;33m:\u001b[0m\u001b[1;33m\u001b[0m\u001b[0m\n\u001b[1;32m-> 1797\u001b[1;33m             \u001b[1;32mreturn\u001b[0m \u001b[0mself\u001b[0m\u001b[1;33m.\u001b[0m\u001b[0m_getitem_column\u001b[0m\u001b[1;33m(\u001b[0m\u001b[0mkey\u001b[0m\u001b[1;33m)\u001b[0m\u001b[1;33m\u001b[0m\u001b[0m\n\u001b[0m\u001b[0;32m   1798\u001b[0m \u001b[1;33m\u001b[0m\u001b[0m\n\u001b[0;32m   1799\u001b[0m     \u001b[1;32mdef\u001b[0m \u001b[0m_getitem_column\u001b[0m\u001b[1;33m(\u001b[0m\u001b[0mself\u001b[0m\u001b[1;33m,\u001b[0m \u001b[0mkey\u001b[0m\u001b[1;33m)\u001b[0m\u001b[1;33m:\u001b[0m\u001b[1;33m\u001b[0m\u001b[0m\n",
        "\u001b[1;32mC:\\Python27\\lib\\site-packages\\pandas\\core\\frame.pyc\u001b[0m in \u001b[0;36m_getitem_column\u001b[1;34m(self, key)\u001b[0m\n\u001b[0;32m   1802\u001b[0m         \u001b[1;31m# get column\u001b[0m\u001b[1;33m\u001b[0m\u001b[1;33m\u001b[0m\u001b[0m\n\u001b[0;32m   1803\u001b[0m         \u001b[1;32mif\u001b[0m \u001b[0mself\u001b[0m\u001b[1;33m.\u001b[0m\u001b[0mcolumns\u001b[0m\u001b[1;33m.\u001b[0m\u001b[0mis_unique\u001b[0m\u001b[1;33m:\u001b[0m\u001b[1;33m\u001b[0m\u001b[0m\n\u001b[1;32m-> 1804\u001b[1;33m             \u001b[1;32mreturn\u001b[0m \u001b[0mself\u001b[0m\u001b[1;33m.\u001b[0m\u001b[0m_get_item_cache\u001b[0m\u001b[1;33m(\u001b[0m\u001b[0mkey\u001b[0m\u001b[1;33m)\u001b[0m\u001b[1;33m\u001b[0m\u001b[0m\n\u001b[0m\u001b[0;32m   1805\u001b[0m \u001b[1;33m\u001b[0m\u001b[0m\n\u001b[0;32m   1806\u001b[0m         \u001b[1;31m# duplicate columns & possible reduce dimensionaility\u001b[0m\u001b[1;33m\u001b[0m\u001b[1;33m\u001b[0m\u001b[0m\n",
        "\u001b[1;32mC:\\Python27\\lib\\site-packages\\pandas\\core\\generic.pyc\u001b[0m in \u001b[0;36m_get_item_cache\u001b[1;34m(self, item)\u001b[0m\n\u001b[0;32m   1080\u001b[0m         \u001b[1;34m\"\"\" return the cached item, item represents a label indexer \"\"\"\u001b[0m\u001b[1;33m\u001b[0m\u001b[0m\n\u001b[0;32m   1081\u001b[0m         \u001b[0mcache\u001b[0m \u001b[1;33m=\u001b[0m \u001b[0mself\u001b[0m\u001b[1;33m.\u001b[0m\u001b[0m_item_cache\u001b[0m\u001b[1;33m\u001b[0m\u001b[0m\n\u001b[1;32m-> 1082\u001b[1;33m         \u001b[0mres\u001b[0m \u001b[1;33m=\u001b[0m \u001b[0mcache\u001b[0m\u001b[1;33m.\u001b[0m\u001b[0mget\u001b[0m\u001b[1;33m(\u001b[0m\u001b[0mitem\u001b[0m\u001b[1;33m)\u001b[0m\u001b[1;33m\u001b[0m\u001b[0m\n\u001b[0m\u001b[0;32m   1083\u001b[0m         \u001b[1;32mif\u001b[0m \u001b[0mres\u001b[0m \u001b[1;32mis\u001b[0m \u001b[0mNone\u001b[0m\u001b[1;33m:\u001b[0m\u001b[1;33m\u001b[0m\u001b[0m\n\u001b[0;32m   1084\u001b[0m             \u001b[0mvalues\u001b[0m \u001b[1;33m=\u001b[0m \u001b[0mself\u001b[0m\u001b[1;33m.\u001b[0m\u001b[0m_data\u001b[0m\u001b[1;33m.\u001b[0m\u001b[0mget\u001b[0m\u001b[1;33m(\u001b[0m\u001b[0mitem\u001b[0m\u001b[1;33m)\u001b[0m\u001b[1;33m\u001b[0m\u001b[0m\n",
        "\u001b[1;31mTypeError\u001b[0m: unhashable type"
       ]
      }
     ],
     "prompt_number": 44
    },
    {
     "cell_type": "code",
     "collapsed": false,
     "input": [
      "lr = LogisticRegression()\n",
      "lr.fit(traindf_no_time, occupancy_train)\n",
      "lrt1_accuracy = lr.score(testdf1_no_time, occupancy_test1)\n",
      "print(\"Accuracy of Logistic Regression of test1: \"+ str(lrt1_accuracy))\n",
      "lrt2_accuracy = lr.score(testdf2_no_time, occupancy_test2)\n",
      "print(\"Accuracy of Logistic Regression of test2: \"+ str(lrt2_accuracy))\n",
      "\n",
      "\"\"\"\n",
      "\tK Neighbors Classifier\n",
      "\"\"\"\n",
      "\n",
      "neigh = KNeighborsClassifier(n_neighbors = 33)\n",
      "neigh.fit(traindf_no_time, occupancy_train)\n",
      "neight1_accuracy = neigh.score(testdf1_no_time, occupancy_test1)\n",
      "print(\"Accuracy of K Neighbors Classifier of test1: \" + str(neight1_accuracy))\n",
      "neight2_accuracy = neigh.score(testdf2_no_time, occupancy_test2)\n",
      "print(\"Accuracy of K Neighbors Classifier of test2: \" + str(neight2_accuracy))\n",
      "\"\"\"\n",
      "\tGaussian Naive Bayes\n",
      "\"\"\"\n",
      "gnb = GaussianNB()\n",
      "gnb.fit(traindf_no_time, occupancy_train)\n",
      "gnbt1_accuracy = gnb.score(testdf1_no_time, occupancy_test1)\n",
      "print(\"Accuracy of Gaussian Naive Bayes of test1: \" + str(gnbt1_accuracy))\n",
      "gnbt2_accuracy = gnb.score(testdf2_no_time, occupancy_test2)\n",
      "print(\"Accuracy of Gaussian Naive Bayes of test2: \" + str(gnbt2_accuracy))\n",
      "\n",
      "\"\"\"\n",
      "\tRandom Forest Classifier\n",
      "\"\"\"\n",
      "rfc = RandomForestClassifier()\n",
      "rfc.fit(traindf_no_time, occupancy_train)\n",
      "rfct1_accuracy = rfc.score(testdf1_no_time, occupancy_test1)\n",
      "print(\"Accuracy of Random Forest Classifier of test1: \" + str(rfct1_accuracy))\n",
      "rfct2_accuracy = rfc.score(testdf2_no_time, occupancy_test2)\n",
      "print(\"Accuracy of Random Forest Classifier of test2: \" + str(rfct2_accuracy))\n",
      "\"\"\"\n",
      "\tSVM\n",
      "\"\"\"\n",
      "svm = SVC()\n",
      "svm.fit(traindf_no_time, occupancy_train)\n",
      "svmt1_accuracy = svm.score(testdf1_no_time, occupancy_test1)\n",
      "print(\"Accuracy of SVM of test1: \" + str(svmt1_accuracy))\n",
      "svmt2_accuracy = svm.score(testdf2_no_time, occupancy_test2)\n",
      "print(\"Accuracy of SVM of test2: \" + str(svmt2_accuracy))"
     ],
     "language": "python",
     "metadata": {},
     "outputs": [
      {
       "output_type": "stream",
       "stream": "stdout",
       "text": [
        "Accuracy of Logistic Regression of test1: 0.978236397749\n",
        "Accuracy of Logistic Regression of test2: 0.992924528302\n",
        "Accuracy of K Neighbors Classifier of test1: 0.978236397749"
       ]
      },
      {
       "output_type": "stream",
       "stream": "stdout",
       "text": [
        "\n",
        "Accuracy of K Neighbors Classifier of test2: 0.970365053322"
       ]
      },
      {
       "output_type": "stream",
       "stream": "stdout",
       "text": [
        "\n",
        "Accuracy of Gaussian Naive Bayes of test1: 0.977485928705\n",
        "Accuracy of Gaussian Naive Bayes of test2: 0.987592288761\n",
        "Accuracy of Random Forest Classifier of test1: 0.958348968105"
       ]
      },
      {
       "output_type": "stream",
       "stream": "stdout",
       "text": [
        "\n",
        "Accuracy of Random Forest Classifier of test2: 0.978876127974\n",
        "Accuracy of SVM of test1: 0.910318949343"
       ]
      },
      {
       "output_type": "stream",
       "stream": "stdout",
       "text": [
        "\n",
        "Accuracy of SVM of test2: 0.579368334701"
       ]
      },
      {
       "output_type": "stream",
       "stream": "stdout",
       "text": [
        "\n"
       ]
      }
     ],
     "prompt_number": 13
    },
    {
     "cell_type": "code",
     "collapsed": true,
     "input": [],
     "language": "python",
     "metadata": {},
     "outputs": [],
     "prompt_number": 6
    },
    {
     "cell_type": "code",
     "collapsed": false,
     "input": [
      "times = 50\n",
      "t1accuracy = []\n",
      "t2accuracy = []\n",
      "for i in range(0, times):\n",
      "    rfc = RandomForestClassifier()\n",
      "    rfc.fit(traindf_no_time, occupancy_train)\n",
      "    t1accuracy.append(rfc.score(testdf1_no_time, occupancy_test1))\n",
      "    t2accuracy.append(rfc.score(testdf2_no_time, occupancy_test2))\n",
      "    \n",
      "print(\"Accuracy of Random Forest Classifier for test1: \" + str(np.mean(t1accuracy)))\n",
      "print(\"Accuracy of Random Forest Classifier for test2: \" + str(np.mean(t2accuracy)))"
     ],
     "language": "python",
     "metadata": {},
     "outputs": [
      {
       "output_type": "stream",
       "stream": "stdout",
       "text": [
        "Accuracy of Random Forest Classifier for test1: 0.936255159475\n",
        "Accuracy of Random Forest Classifier for test2: 0.962136997539\n"
       ]
      }
     ],
     "prompt_number": 7
    },
    {
     "cell_type": "heading",
     "level": 1,
     "metadata": {},
     "source": [
      "Training Models by Using Normalized data"
     ]
    },
    {
     "cell_type": "code",
     "collapsed": false,
     "input": [
      "nor_traindf_no_time = normalize(traindf[['Temperature', 'Humidity', 'Light', 'CO2', 'HumidityRatio']])\n",
      "occupancy_train = traindf['Occupancy'].tolist()\n",
      "\n",
      "nor_testdf1_no_time = normalize(testdf1[['Temperature', 'Humidity', 'Light', 'CO2', 'HumidityRatio']])\n",
      "occupancy_test1 = testdf1['Occupancy'].tolist()\n",
      "\n",
      "nor_testdf2_no_time = normalize(testdf2[['Temperature', 'Humidity', 'Light', 'CO2', 'HumidityRatio']])\n",
      "occupancy_test2 = testdf2['Occupancy'].tolist()"
     ],
     "language": "python",
     "metadata": {},
     "outputs": [
      {
       "output_type": "stream",
       "stream": "stdout",
       "text": [
        "[[  2.76470340e-02   3.25276061e-02   5.08094757e-01   8.60242590e-01\n",
        "    5.71664827e-06]\n",
        " [  2.77579995e-02   3.26950865e-02   5.14991827e-01   8.56121454e-01\n",
        "    5.73558322e-06]\n",
        " [  2.78323112e-02   3.27555645e-02   5.12162616e-01   8.57812270e-01\n",
        "    5.74615621e-06]\n",
        " [  2.79837279e-02   3.28793693e-02   5.14948945e-01   8.56132841e-01\n",
        "    5.76780149e-06]\n",
        " [  2.80320464e-02   3.30074313e-02   5.16954622e-01   8.54916740e-01\n",
        "    5.77265137e-06]\n",
        " [  2.82583776e-02   3.32739338e-02   5.12565377e-01   8.57537779e-01\n",
        "    5.81925985e-06]\n",
        " [  2.82386263e-02   3.32506769e-02   5.12207118e-01   8.57753368e-01\n",
        "    5.81519246e-06]]\n"
       ]
      }
     ],
     "prompt_number": 33
    },
    {
     "cell_type": "code",
     "collapsed": false,
     "input": [
      "lr = LogisticRegression()\n",
      "lr.fit(nor_traindf_no_time, occupancy_train)\n",
      "lrt1_accuracy = lr.score(nor_testdf1_no_time, occupancy_test1)\n",
      "print(\"Accuracy of Logistic Regression of test1: \"+ str(lrt1_accuracy))\n",
      "lrt2_accuracy = lr.score(nor_testdf2_no_time, occupancy_test2)\n",
      "print(\"Accuracy of Logistic Regression of test2: \"+ str(lrt2_accuracy))\n",
      "\n",
      "\"\"\"\n",
      "\tK Neighbors Classifier\n",
      "\"\"\"\n",
      "\n",
      "neigh = KNeighborsClassifier(n_neighbors = 33)\n",
      "neigh.fit(nor_traindf_no_time, occupancy_train)\n",
      "neight1_accuracy = neigh.score(nor_testdf1_no_time, occupancy_test1)\n",
      "print(\"Accuracy of K Neighbors Classifier of test1: \" + str(neight1_accuracy))\n",
      "neight2_accuracy = neigh.score(nor_testdf2_no_time, occupancy_test2)\n",
      "print(\"Accuracy of K Neighbors Classifier of test2: \" + str(neight2_accuracy))\n",
      "\"\"\"\n",
      "\tGaussian Naive Bayes\n",
      "\"\"\"\n",
      "gnb = GaussianNB()\n",
      "gnb.fit(nor_traindf_no_time, occupancy_train)\n",
      "gnbt1_accuracy = gnb.score(nor_testdf1_no_time, occupancy_test1)\n",
      "print(\"Accuracy of Gaussian Naive Bayes of test1: \" + str(gnbt1_accuracy))\n",
      "gnbt2_accuracy = gnb.score(nor_testdf2_no_time, occupancy_test2)\n",
      "print(\"Accuracy of Gaussian Naive Bayes of test2: \" + str(gnbt2_accuracy))\n",
      "\n",
      "\"\"\"\n",
      "\tRandom Forest Classifier\n",
      "\"\"\"\n",
      "rfc = RandomForestClassifier()\n",
      "rfc.fit(nor_traindf_no_time, occupancy_train)\n",
      "rfct1_accuracy = rfc.score(nor_testdf1_no_time, occupancy_test1)\n",
      "print(\"Accuracy of Random Forest Classifier of test1: \" + str(rfct1_accuracy))\n",
      "rfct2_accuracy = rfc.score(nor_testdf2_no_time, occupancy_test2)\n",
      "print(\"Accuracy of Random Forest Classifier of test2: \" + str(rfct2_accuracy))\n",
      "\"\"\"\n",
      "\tSVM\n",
      "\"\"\"\n",
      "svm = SVC()\n",
      "svm.fit(nor_traindf_no_time, occupancy_train)\n",
      "svmt1_accuracy = svm.score(nor_testdf1_no_time, occupancy_test1)\n",
      "print(\"Accuracy of SVM of test1: \" + str(svmt1_accuracy))\n",
      "svmt2_accuracy = svm.score(nor_testdf2_no_time, occupancy_test2)\n",
      "print(\"Accuracy of SVM of test2: \" + str(svmt2_accuracy))"
     ],
     "language": "python",
     "metadata": {},
     "outputs": [
      {
       "output_type": "stream",
       "stream": "stdout",
       "text": [
        "Accuracy of Logistic Regression of test1: 0.952720450281\n",
        "Accuracy of Logistic Regression of test2: 0.95385561936\n",
        "Accuracy of K Neighbors Classifier of test1: 0.972607879925"
       ]
      },
      {
       "output_type": "stream",
       "stream": "stdout",
       "text": [
        "\n",
        "Accuracy of K Neighbors Classifier of test2: 0.97046759639"
       ]
      },
      {
       "output_type": "stream",
       "stream": "stdout",
       "text": [
        "\n",
        "Accuracy of Gaussian Naive Bayes of test1: 0.968480300188\n",
        "Accuracy of Gaussian Naive Bayes of test2: 0.878794093519\n",
        "Accuracy of Random Forest Classifier of test1: 0.944090056285"
       ]
      },
      {
       "output_type": "stream",
       "stream": "stdout",
       "text": [
        "\n",
        "Accuracy of Random Forest Classifier of test2: 0.943191140279\n",
        "Accuracy of SVM of test1: 0.97373358349"
       ]
      },
      {
       "output_type": "stream",
       "stream": "stdout",
       "text": [
        "\n",
        "Accuracy of SVM of test2: 0.947395406071"
       ]
      },
      {
       "output_type": "stream",
       "stream": "stdout",
       "text": [
        "\n"
       ]
      }
     ],
     "prompt_number": 10
    },
    {
     "cell_type": "heading",
     "level": 1,
     "metadata": {},
     "source": [
      "Reduce parameter"
     ]
    },
    {
     "cell_type": "code",
     "collapsed": true,
     "input": [
      "nor_traindf_no_time = traindf[['Temperature', 'Light', 'CO2']]\n",
      "occupancy_train = traindf['Occupancy'].tolist()\n",
      "\n",
      "nor_testdf1_no_time = testdf1[['Temperature', 'Light', 'CO2']]\n",
      "occupancy_test1 = testdf1['Occupancy'].tolist()\n",
      "\n",
      "nor_testdf2_no_time = testdf2[['Temperature', 'Light', 'CO2']]\n",
      "occupancy_test2 = testdf2['Occupancy'].tolist()"
     ],
     "language": "python",
     "metadata": {},
     "outputs": [],
     "prompt_number": 69
    },
    {
     "cell_type": "code",
     "collapsed": false,
     "input": [
      "lr = LogisticRegression()\n",
      "lr.fit(nor_traindf_no_time, occupancy_train)\n",
      "lrt1_accuracy = lr.score(nor_testdf1_no_time, occupancy_test1)\n",
      "print(\"Accuracy of Logistic Regression of test1: \"+ str(lrt1_accuracy))\n",
      "lrt2_accuracy = lr.score(nor_testdf2_no_time, occupancy_test2)\n",
      "print(\"Accuracy of Logistic Regression of test2: \"+ str(lrt2_accuracy))\n",
      "\n",
      "\"\"\"\n",
      "\tK Neighbors Classifier\n",
      "\"\"\"\n",
      "\n",
      "neigh = KNeighborsClassifier(n_neighbors = 33)\n",
      "neigh.fit(nor_traindf_no_time, occupancy_train)\n",
      "neight1_accuracy = neigh.score(nor_testdf1_no_time, occupancy_test1)\n",
      "print(\"Accuracy of K Neighbors Classifier of test1: \" + str(neight1_accuracy))\n",
      "neight2_accuracy = neigh.score(nor_testdf2_no_time, occupancy_test2)\n",
      "print(\"Accuracy of K Neighbors Classifier of test2: \" + str(neight2_accuracy))\n",
      "\"\"\"\n",
      "\tGaussian Naive Bayes\n",
      "\"\"\"\n",
      "gnb = GaussianNB()\n",
      "gnb.fit(nor_traindf_no_time, occupancy_train)\n",
      "gnbt1_accuracy = gnb.score(nor_testdf1_no_time, occupancy_test1)\n",
      "print(\"Accuracy of Gaussian Naive Bayes of test1: \" + str(gnbt1_accuracy))\n",
      "gnbt2_accuracy = gnb.score(nor_testdf2_no_time, occupancy_test2)\n",
      "print(\"Accuracy of Gaussian Naive Bayes of test2: \" + str(gnbt2_accuracy))\n",
      "\n",
      "\"\"\"\n",
      "\tRandom Forest Classifier\n",
      "\"\"\"\n",
      "rfc = RandomForestClassifier()\n",
      "rfc.fit(nor_traindf_no_time, occupancy_train)\n",
      "rfct1_accuracy = rfc.score(nor_testdf1_no_time, occupancy_test1)\n",
      "print(\"Accuracy of Random Forest Classifier of test1: \" + str(rfct1_accuracy))\n",
      "rfct2_accuracy = rfc.score(nor_testdf2_no_time, occupancy_test2)\n",
      "print(\"Accuracy of Random Forest Classifier of test2: \" + str(rfct2_accuracy))\n",
      "\"\"\"\n",
      "\tSVM\n",
      "\"\"\"\n",
      "svm = SVC()\n",
      "svm.fit(nor_traindf_no_time, occupancy_train)\n",
      "svmt1_accuracy = svm.score(nor_testdf1_no_time, occupancy_test1)\n",
      "print(\"Accuracy of SVM of test1: \" + str(svmt1_accuracy))\n",
      "svmt2_accuracy = svm.score(nor_testdf2_no_time, occupancy_test2)\n",
      "print(\"Accuracy of SVM of test2: \" + str(svmt2_accuracy))\n",
      "\n",
      "\"\"\"\n",
      "\tWeigted model\n",
      "\"\"\"\n",
      "\n",
      "r1 = lr.predict(nor_traindf_no_time)\n",
      "r2 = neigh.predict(nor_traindf_no_time)\n",
      "r3 = gnb.predict(nor_traindf_no_time)\n",
      "r4 = rfc.predict(nor_traindf_no_time)\n",
      "r5 = svm.predict(nor_traindf_no_time)\n",
      "result_array = np.column_stack((r1, r2, r3, r4, r5))\n",
      "print(result_array.shape)\n",
      "print(result_array[0:500,0:])\n",
      "wm = LogisticRegression()\n",
      "wm.fit(result_array, occupancy_train)\n",
      "\n",
      "t1 = lr.predict(nor_testdf1_no_time)\n",
      "t2 = neigh.predict(nor_testdf1_no_time)\n",
      "t3 = gnb.predict(nor_testdf1_no_time)\n",
      "t4 = rfc.predict(nor_testdf1_no_time)\n",
      "t5 = svm.predict(nor_testdf1_no_time)\n",
      "test1_results = np.column_stack((t1, t2, t3, t4, t5))\n",
      "\n",
      "wmt1_accuracy = wm.score(test1_results, occupancy_test1)\n",
      "print(\"Accuracy of Weighted Model of test1: \"+ str(wmt1_accuracy))\n",
      "\n",
      "t1 = lr.predict(nor_testdf2_no_time)\n",
      "t2 = neigh.predict(nor_testdf2_no_time)\n",
      "t3 = gnb.predict(nor_testdf2_no_time)\n",
      "t4 = rfc.predict(nor_testdf2_no_time)\n",
      "t5 = svm.predict(nor_testdf2_no_time)\n",
      "test2_results = np.column_stack((t1_np, t2_np, t3_np, t4_np, t5_np))\n",
      "wmt2_accuracy = wm.score(test2_results, occupancy_test2)\n",
      "print(\"Accuracy of Weighted Model of test2: \"+ str(wmt2_accuracy))\n"
     ],
     "language": "python",
     "metadata": {},
     "outputs": [
      {
       "output_type": "stream",
       "stream": "stdout",
       "text": [
        "Accuracy of Logistic Regression of test1: 0.978236397749\n",
        "Accuracy of Logistic Regression of test2: 0.993129614438\n",
        "Accuracy of K Neighbors Classifier of test1: 0.978236397749"
       ]
      },
      {
       "output_type": "stream",
       "stream": "stdout",
       "text": [
        "\n",
        "Accuracy of K Neighbors Classifier of test2: 0.970570139459"
       ]
      },
      {
       "output_type": "stream",
       "stream": "stdout",
       "text": [
        "\n",
        "Accuracy of Gaussian Naive Bayes of test1: 0.977485928705\n",
        "Accuracy of Gaussian Naive Bayes of test2: 0.987489745693\n",
        "Accuracy of Random Forest Classifier of test1: 0.930581613508"
       ]
      },
      {
       "output_type": "stream",
       "stream": "stdout",
       "text": [
        "\n",
        "Accuracy of Random Forest Classifier of test2: 0.968416735029\n",
        "Accuracy of SVM of test1: 0.955722326454"
       ]
      },
      {
       "output_type": "stream",
       "stream": "stdout",
       "text": [
        "\n",
        "Accuracy of SVM of test2: 0.769995898277"
       ]
      },
      {
       "output_type": "stream",
       "stream": "stdout",
       "text": [
        "\n",
        "(8143, 5)"
       ]
      },
      {
       "output_type": "stream",
       "stream": "stdout",
       "text": [
        "\n",
        "[[1 1 1 1 1]\n",
        " [1 1 1 1 1]\n",
        " [1 1 1 1 1]\n",
        " ..., \n",
        " [0 0 0 0 0]\n",
        " [0 0 0 0 0]\n",
        " [0 0 0 0 0]]\n",
        "Accuracy of Weighted Model of test1: 0.977861163227"
       ]
      },
      {
       "output_type": "stream",
       "stream": "stdout",
       "text": [
        "\n",
        "Accuracy of Weighted Model of test2: 0.970159967186"
       ]
      },
      {
       "output_type": "stream",
       "stream": "stdout",
       "text": [
        "\n"
       ]
      }
     ],
     "prompt_number": 72
    },
    {
     "cell_type": "code",
     "collapsed": false,
     "input": [],
     "language": "python",
     "metadata": {},
     "outputs": []
    }
   ],
   "metadata": {}
  }
 ]
}